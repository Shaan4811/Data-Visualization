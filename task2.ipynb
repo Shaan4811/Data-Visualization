{
 "cells": [
  {
   "cell_type": "code",
   "execution_count": 1,
   "id": "e5e75d11-a16a-4e28-8f6f-824e0e1717da",
   "metadata": {},
   "outputs": [],
   "source": [
    "import pandas as pd\n",
    "import matplotlib.pyplot as plt"
   ]
  },
  {
   "cell_type": "code",
   "execution_count": 2,
   "id": "c01a3517-0f96-4c68-8388-8204624c8efd",
   "metadata": {},
   "outputs": [],
   "source": [
    "orange=pd.read_csv('/Users/shaan/Desktop/data analytics/Matplotlib/docs/Orange Quality Data.csv')"
   ]
  },
  {
   "cell_type": "code",
   "execution_count": 3,
   "id": "a9f91f9c-5b79-477e-a7ae-da502aeb16a1",
   "metadata": {},
   "outputs": [
    {
     "data": {
      "text/html": [
       "<div>\n",
       "<style scoped>\n",
       "    .dataframe tbody tr th:only-of-type {\n",
       "        vertical-align: middle;\n",
       "    }\n",
       "\n",
       "    .dataframe tbody tr th {\n",
       "        vertical-align: top;\n",
       "    }\n",
       "\n",
       "    .dataframe thead th {\n",
       "        text-align: right;\n",
       "    }\n",
       "</style>\n",
       "<table border=\"1\" class=\"dataframe\">\n",
       "  <thead>\n",
       "    <tr style=\"text-align: right;\">\n",
       "      <th></th>\n",
       "      <th>Size (cm)</th>\n",
       "      <th>Weight (g)</th>\n",
       "      <th>Brix (Sweetness)</th>\n",
       "      <th>pH (Acidity)</th>\n",
       "      <th>Softness (1-5)</th>\n",
       "      <th>HarvestTime (days)</th>\n",
       "      <th>Ripeness (1-5)</th>\n",
       "      <th>Color</th>\n",
       "      <th>Variety</th>\n",
       "      <th>Blemishes (Y/N)</th>\n",
       "      <th>Quality (1-5)</th>\n",
       "    </tr>\n",
       "  </thead>\n",
       "  <tbody>\n",
       "    <tr>\n",
       "      <th>0</th>\n",
       "      <td>7.5</td>\n",
       "      <td>180</td>\n",
       "      <td>12.0</td>\n",
       "      <td>3.2</td>\n",
       "      <td>2.0</td>\n",
       "      <td>10</td>\n",
       "      <td>4.0</td>\n",
       "      <td>Orange</td>\n",
       "      <td>Valencia</td>\n",
       "      <td>N</td>\n",
       "      <td>4.0</td>\n",
       "    </tr>\n",
       "    <tr>\n",
       "      <th>1</th>\n",
       "      <td>8.2</td>\n",
       "      <td>220</td>\n",
       "      <td>10.5</td>\n",
       "      <td>3.4</td>\n",
       "      <td>3.0</td>\n",
       "      <td>14</td>\n",
       "      <td>4.5</td>\n",
       "      <td>Deep Orange</td>\n",
       "      <td>Navel</td>\n",
       "      <td>N</td>\n",
       "      <td>4.5</td>\n",
       "    </tr>\n",
       "    <tr>\n",
       "      <th>2</th>\n",
       "      <td>6.8</td>\n",
       "      <td>150</td>\n",
       "      <td>14.0</td>\n",
       "      <td>3.0</td>\n",
       "      <td>1.0</td>\n",
       "      <td>7</td>\n",
       "      <td>5.0</td>\n",
       "      <td>Light Orange</td>\n",
       "      <td>Cara Cara</td>\n",
       "      <td>N</td>\n",
       "      <td>5.0</td>\n",
       "    </tr>\n",
       "    <tr>\n",
       "      <th>3</th>\n",
       "      <td>9.0</td>\n",
       "      <td>250</td>\n",
       "      <td>8.5</td>\n",
       "      <td>3.8</td>\n",
       "      <td>4.0</td>\n",
       "      <td>21</td>\n",
       "      <td>3.5</td>\n",
       "      <td>Orange-Red</td>\n",
       "      <td>Blood Orange</td>\n",
       "      <td>N</td>\n",
       "      <td>3.5</td>\n",
       "    </tr>\n",
       "    <tr>\n",
       "      <th>4</th>\n",
       "      <td>8.5</td>\n",
       "      <td>210</td>\n",
       "      <td>11.5</td>\n",
       "      <td>3.3</td>\n",
       "      <td>2.5</td>\n",
       "      <td>12</td>\n",
       "      <td>5.0</td>\n",
       "      <td>Orange</td>\n",
       "      <td>Hamlin</td>\n",
       "      <td>Y (Minor)</td>\n",
       "      <td>4.5</td>\n",
       "    </tr>\n",
       "    <tr>\n",
       "      <th>...</th>\n",
       "      <td>...</td>\n",
       "      <td>...</td>\n",
       "      <td>...</td>\n",
       "      <td>...</td>\n",
       "      <td>...</td>\n",
       "      <td>...</td>\n",
       "      <td>...</td>\n",
       "      <td>...</td>\n",
       "      <td>...</td>\n",
       "      <td>...</td>\n",
       "      <td>...</td>\n",
       "    </tr>\n",
       "    <tr>\n",
       "      <th>236</th>\n",
       "      <td>8.0</td>\n",
       "      <td>194</td>\n",
       "      <td>10.9</td>\n",
       "      <td>3.6</td>\n",
       "      <td>5.0</td>\n",
       "      <td>13</td>\n",
       "      <td>1.0</td>\n",
       "      <td>Orange-Red</td>\n",
       "      <td>Tangerine</td>\n",
       "      <td>Y (Scars)</td>\n",
       "      <td>5.0</td>\n",
       "    </tr>\n",
       "    <tr>\n",
       "      <th>237</th>\n",
       "      <td>7.4</td>\n",
       "      <td>275</td>\n",
       "      <td>8.5</td>\n",
       "      <td>3.5</td>\n",
       "      <td>5.0</td>\n",
       "      <td>20</td>\n",
       "      <td>5.0</td>\n",
       "      <td>Light Orange</td>\n",
       "      <td>Minneola (Hybrid)</td>\n",
       "      <td>N</td>\n",
       "      <td>4.0</td>\n",
       "    </tr>\n",
       "    <tr>\n",
       "      <th>238</th>\n",
       "      <td>7.5</td>\n",
       "      <td>196</td>\n",
       "      <td>15.7</td>\n",
       "      <td>3.0</td>\n",
       "      <td>3.0</td>\n",
       "      <td>13</td>\n",
       "      <td>3.0</td>\n",
       "      <td>Deep Orange</td>\n",
       "      <td>Temple</td>\n",
       "      <td>Y (Minor Insect Damage)</td>\n",
       "      <td>5.0</td>\n",
       "    </tr>\n",
       "    <tr>\n",
       "      <th>239</th>\n",
       "      <td>7.2</td>\n",
       "      <td>251</td>\n",
       "      <td>9.8</td>\n",
       "      <td>4.3</td>\n",
       "      <td>3.0</td>\n",
       "      <td>23</td>\n",
       "      <td>1.0</td>\n",
       "      <td>Light Orange</td>\n",
       "      <td>Moro (Blood)</td>\n",
       "      <td>Y (Minor Insect Damage)</td>\n",
       "      <td>3.0</td>\n",
       "    </tr>\n",
       "    <tr>\n",
       "      <th>240</th>\n",
       "      <td>7.3</td>\n",
       "      <td>282</td>\n",
       "      <td>10.5</td>\n",
       "      <td>2.9</td>\n",
       "      <td>4.0</td>\n",
       "      <td>21</td>\n",
       "      <td>2.0</td>\n",
       "      <td>Orange-Red</td>\n",
       "      <td>Jaffa</td>\n",
       "      <td>Y (Minor)</td>\n",
       "      <td>4.0</td>\n",
       "    </tr>\n",
       "  </tbody>\n",
       "</table>\n",
       "<p>241 rows × 11 columns</p>\n",
       "</div>"
      ],
      "text/plain": [
       "     Size (cm)  Weight (g)  Brix (Sweetness)  pH (Acidity)  Softness (1-5)  \\\n",
       "0          7.5         180              12.0           3.2             2.0   \n",
       "1          8.2         220              10.5           3.4             3.0   \n",
       "2          6.8         150              14.0           3.0             1.0   \n",
       "3          9.0         250               8.5           3.8             4.0   \n",
       "4          8.5         210              11.5           3.3             2.5   \n",
       "..         ...         ...               ...           ...             ...   \n",
       "236        8.0         194              10.9           3.6             5.0   \n",
       "237        7.4         275               8.5           3.5             5.0   \n",
       "238        7.5         196              15.7           3.0             3.0   \n",
       "239        7.2         251               9.8           4.3             3.0   \n",
       "240        7.3         282              10.5           2.9             4.0   \n",
       "\n",
       "     HarvestTime (days)  Ripeness (1-5)         Color            Variety  \\\n",
       "0                    10             4.0        Orange           Valencia   \n",
       "1                    14             4.5   Deep Orange              Navel   \n",
       "2                     7             5.0  Light Orange          Cara Cara   \n",
       "3                    21             3.5    Orange-Red       Blood Orange   \n",
       "4                    12             5.0        Orange             Hamlin   \n",
       "..                  ...             ...           ...                ...   \n",
       "236                  13             1.0    Orange-Red          Tangerine   \n",
       "237                  20             5.0  Light Orange  Minneola (Hybrid)   \n",
       "238                  13             3.0   Deep Orange             Temple   \n",
       "239                  23             1.0  Light Orange       Moro (Blood)   \n",
       "240                  21             2.0    Orange-Red              Jaffa   \n",
       "\n",
       "             Blemishes (Y/N)  Quality (1-5)  \n",
       "0                          N            4.0  \n",
       "1                          N            4.5  \n",
       "2                          N            5.0  \n",
       "3                          N            3.5  \n",
       "4                  Y (Minor)            4.5  \n",
       "..                       ...            ...  \n",
       "236                Y (Scars)            5.0  \n",
       "237                        N            4.0  \n",
       "238  Y (Minor Insect Damage)            5.0  \n",
       "239  Y (Minor Insect Damage)            3.0  \n",
       "240                Y (Minor)            4.0  \n",
       "\n",
       "[241 rows x 11 columns]"
      ]
     },
     "execution_count": 3,
     "metadata": {},
     "output_type": "execute_result"
    }
   ],
   "source": [
    "orange"
   ]
  },
  {
   "cell_type": "markdown",
   "id": "0f0d6e77-1f64-4ebc-80dc-5c5a88377200",
   "metadata": {},
   "source": [
    "## description\n",
    "-Size: Size of orange in centimeters.\n",
    "  Weight: Weight of orange in grams.\n",
    "  Brix: Sweetness level measured in Brix.\n",
    "  pH: Acidity level measured using pH.\n",
    "  Softness: Softness rating on a scale of 1 to 5.\n",
    "  HarvestTime: Days since harvest.\n",
    "  Ripeness: Ripeness rating on a scale of 1 to 5.\n",
    "  Color: Color of the fruit.\n",
    "  Variety: Orange variety.\n",
    "  Blemishes: Presence of blemishes (Yes/No).\n",
    "  Quality: Overall quality rating on a scale of 1 to 5."
   ]
  },
  {
   "cell_type": "code",
   "execution_count": 8,
   "id": "2001c61e-5efa-475c-ab4d-51f32a7251d3",
   "metadata": {},
   "outputs": [
    {
     "name": "stdout",
     "output_type": "stream",
     "text": [
      "<class 'pandas.core.frame.DataFrame'>\n",
      "RangeIndex: 241 entries, 0 to 240\n",
      "Data columns (total 11 columns):\n",
      " #   Column              Non-Null Count  Dtype  \n",
      "---  ------              --------------  -----  \n",
      " 0   Size (cm)           241 non-null    float64\n",
      " 1   Weight (g)          241 non-null    int64  \n",
      " 2   Brix (Sweetness)    241 non-null    float64\n",
      " 3   pH (Acidity)        241 non-null    float64\n",
      " 4   Softness (1-5)      241 non-null    float64\n",
      " 5   HarvestTime (days)  241 non-null    int64  \n",
      " 6   Ripeness (1-5)      241 non-null    float64\n",
      " 7   Color               241 non-null    object \n",
      " 8   Variety             241 non-null    object \n",
      " 9   Blemishes (Y/N)     241 non-null    object \n",
      " 10  Quality (1-5)       241 non-null    float64\n",
      "dtypes: float64(6), int64(2), object(3)\n",
      "memory usage: 20.8+ KB\n"
     ]
    }
   ],
   "source": [
    "orange.info()"
   ]
  },
  {
   "cell_type": "code",
   "execution_count": 10,
   "id": "821b5e4d-c667-46d8-9e28-465683bffe11",
   "metadata": {},
   "outputs": [
    {
     "data": {
      "text/plain": [
       "Size (cm)             0\n",
       "Weight (g)            0\n",
       "Brix (Sweetness)      0\n",
       "pH (Acidity)          0\n",
       "Softness (1-5)        0\n",
       "HarvestTime (days)    0\n",
       "Ripeness (1-5)        0\n",
       "Color                 0\n",
       "Variety               0\n",
       "Blemishes (Y/N)       0\n",
       "Quality (1-5)         0\n",
       "dtype: int64"
      ]
     },
     "execution_count": 10,
     "metadata": {},
     "output_type": "execute_result"
    }
   ],
   "source": [
    "orange.isnull().sum()"
   ]
  },
  {
   "cell_type": "code",
   "execution_count": 12,
   "id": "90688708-cc09-458a-b5ae-fba70a44ad5d",
   "metadata": {},
   "outputs": [
    {
     "data": {
      "text/html": [
       "<div>\n",
       "<style scoped>\n",
       "    .dataframe tbody tr th:only-of-type {\n",
       "        vertical-align: middle;\n",
       "    }\n",
       "\n",
       "    .dataframe tbody tr th {\n",
       "        vertical-align: top;\n",
       "    }\n",
       "\n",
       "    .dataframe thead th {\n",
       "        text-align: right;\n",
       "    }\n",
       "</style>\n",
       "<table border=\"1\" class=\"dataframe\">\n",
       "  <thead>\n",
       "    <tr style=\"text-align: right;\">\n",
       "      <th></th>\n",
       "      <th>count</th>\n",
       "      <th>mean</th>\n",
       "      <th>std</th>\n",
       "      <th>min</th>\n",
       "      <th>25%</th>\n",
       "      <th>50%</th>\n",
       "      <th>75%</th>\n",
       "      <th>max</th>\n",
       "    </tr>\n",
       "  </thead>\n",
       "  <tbody>\n",
       "    <tr>\n",
       "      <th>Size (cm)</th>\n",
       "      <td>241.0</td>\n",
       "      <td>7.844813</td>\n",
       "      <td>1.086002</td>\n",
       "      <td>6.0</td>\n",
       "      <td>6.9</td>\n",
       "      <td>7.8</td>\n",
       "      <td>8.7</td>\n",
       "      <td>10.0</td>\n",
       "    </tr>\n",
       "    <tr>\n",
       "      <th>Weight (g)</th>\n",
       "      <td>241.0</td>\n",
       "      <td>205.128631</td>\n",
       "      <td>56.461012</td>\n",
       "      <td>100.0</td>\n",
       "      <td>155.0</td>\n",
       "      <td>205.0</td>\n",
       "      <td>252.0</td>\n",
       "      <td>300.0</td>\n",
       "    </tr>\n",
       "    <tr>\n",
       "      <th>Brix (Sweetness)</th>\n",
       "      <td>241.0</td>\n",
       "      <td>10.907884</td>\n",
       "      <td>2.760446</td>\n",
       "      <td>5.5</td>\n",
       "      <td>8.5</td>\n",
       "      <td>11.0</td>\n",
       "      <td>13.4</td>\n",
       "      <td>16.0</td>\n",
       "    </tr>\n",
       "    <tr>\n",
       "      <th>pH (Acidity)</th>\n",
       "      <td>241.0</td>\n",
       "      <td>3.473900</td>\n",
       "      <td>0.421007</td>\n",
       "      <td>2.8</td>\n",
       "      <td>3.2</td>\n",
       "      <td>3.4</td>\n",
       "      <td>3.8</td>\n",
       "      <td>4.4</td>\n",
       "    </tr>\n",
       "    <tr>\n",
       "      <th>Softness (1-5)</th>\n",
       "      <td>241.0</td>\n",
       "      <td>3.072614</td>\n",
       "      <td>1.323630</td>\n",
       "      <td>1.0</td>\n",
       "      <td>2.0</td>\n",
       "      <td>3.0</td>\n",
       "      <td>4.0</td>\n",
       "      <td>5.0</td>\n",
       "    </tr>\n",
       "    <tr>\n",
       "      <th>HarvestTime (days)</th>\n",
       "      <td>241.0</td>\n",
       "      <td>15.344398</td>\n",
       "      <td>5.323852</td>\n",
       "      <td>4.0</td>\n",
       "      <td>11.0</td>\n",
       "      <td>15.0</td>\n",
       "      <td>20.0</td>\n",
       "      <td>25.0</td>\n",
       "    </tr>\n",
       "    <tr>\n",
       "      <th>Ripeness (1-5)</th>\n",
       "      <td>241.0</td>\n",
       "      <td>3.599585</td>\n",
       "      <td>1.205214</td>\n",
       "      <td>1.0</td>\n",
       "      <td>3.0</td>\n",
       "      <td>4.0</td>\n",
       "      <td>4.5</td>\n",
       "      <td>5.0</td>\n",
       "    </tr>\n",
       "    <tr>\n",
       "      <th>Quality (1-5)</th>\n",
       "      <td>241.0</td>\n",
       "      <td>3.817427</td>\n",
       "      <td>1.014410</td>\n",
       "      <td>1.0</td>\n",
       "      <td>3.0</td>\n",
       "      <td>4.0</td>\n",
       "      <td>4.5</td>\n",
       "      <td>5.0</td>\n",
       "    </tr>\n",
       "  </tbody>\n",
       "</table>\n",
       "</div>"
      ],
      "text/plain": [
       "                    count        mean        std    min    25%    50%    75%  \\\n",
       "Size (cm)           241.0    7.844813   1.086002    6.0    6.9    7.8    8.7   \n",
       "Weight (g)          241.0  205.128631  56.461012  100.0  155.0  205.0  252.0   \n",
       "Brix (Sweetness)    241.0   10.907884   2.760446    5.5    8.5   11.0   13.4   \n",
       "pH (Acidity)        241.0    3.473900   0.421007    2.8    3.2    3.4    3.8   \n",
       "Softness (1-5)      241.0    3.072614   1.323630    1.0    2.0    3.0    4.0   \n",
       "HarvestTime (days)  241.0   15.344398   5.323852    4.0   11.0   15.0   20.0   \n",
       "Ripeness (1-5)      241.0    3.599585   1.205214    1.0    3.0    4.0    4.5   \n",
       "Quality (1-5)       241.0    3.817427   1.014410    1.0    3.0    4.0    4.5   \n",
       "\n",
       "                      max  \n",
       "Size (cm)            10.0  \n",
       "Weight (g)          300.0  \n",
       "Brix (Sweetness)     16.0  \n",
       "pH (Acidity)          4.4  \n",
       "Softness (1-5)        5.0  \n",
       "HarvestTime (days)   25.0  \n",
       "Ripeness (1-5)        5.0  \n",
       "Quality (1-5)         5.0  "
      ]
     },
     "execution_count": 12,
     "metadata": {},
     "output_type": "execute_result"
    }
   ],
   "source": [
    "orange.describe().T"
   ]
  },
  {
   "cell_type": "code",
   "execution_count": 14,
   "id": "079b1070-5263-418d-b624-27c21ca09f97",
   "metadata": {},
   "outputs": [
    {
     "data": {
      "text/plain": [
       "0"
      ]
     },
     "execution_count": 14,
     "metadata": {},
     "output_type": "execute_result"
    }
   ],
   "source": [
    "orange.duplicated().sum()"
   ]
  },
  {
   "cell_type": "code",
   "execution_count": 16,
   "id": "baefd5b7-f784-4218-9b54-7882d92e3ae3",
   "metadata": {},
   "outputs": [
    {
     "data": {
      "text/plain": [
       "0      4.0\n",
       "1      4.5\n",
       "2      5.0\n",
       "3      3.5\n",
       "4      4.5\n",
       "      ... \n",
       "236    5.0\n",
       "237    4.0\n",
       "238    5.0\n",
       "239    3.0\n",
       "240    4.0\n",
       "Name: Quality (1-5), Length: 241, dtype: float64"
      ]
     },
     "execution_count": 16,
     "metadata": {},
     "output_type": "execute_result"
    }
   ],
   "source": [
    "orange['Quality (1-5)']"
   ]
  },
  {
   "cell_type": "code",
   "execution_count": 18,
   "id": "811436ff-39cb-4c2e-96e4-9eac0cda33d4",
   "metadata": {},
   "outputs": [],
   "source": [
    "b=orange.nlargest(10,'Quality (1-5)')"
   ]
  },
  {
   "cell_type": "code",
   "execution_count": 20,
   "id": "b46a36df-972e-4323-a9e1-cdbf7c4fee13",
   "metadata": {},
   "outputs": [],
   "source": [
    "c=b[['Quality (1-5)','pH (Acidity)']]"
   ]
  },
  {
   "cell_type": "code",
   "execution_count": 22,
   "id": "b01e681f-97c4-4130-afaa-9727c603bf80",
   "metadata": {},
   "outputs": [
    {
     "data": {
      "text/html": [
       "<div>\n",
       "<style scoped>\n",
       "    .dataframe tbody tr th:only-of-type {\n",
       "        vertical-align: middle;\n",
       "    }\n",
       "\n",
       "    .dataframe tbody tr th {\n",
       "        vertical-align: top;\n",
       "    }\n",
       "\n",
       "    .dataframe thead th {\n",
       "        text-align: right;\n",
       "    }\n",
       "</style>\n",
       "<table border=\"1\" class=\"dataframe\">\n",
       "  <thead>\n",
       "    <tr style=\"text-align: right;\">\n",
       "      <th></th>\n",
       "      <th>Quality (1-5)</th>\n",
       "      <th>pH (Acidity)</th>\n",
       "    </tr>\n",
       "  </thead>\n",
       "  <tbody>\n",
       "    <tr>\n",
       "      <th>2</th>\n",
       "      <td>5.0</td>\n",
       "      <td>3.0</td>\n",
       "    </tr>\n",
       "    <tr>\n",
       "      <th>9</th>\n",
       "      <td>5.0</td>\n",
       "      <td>3.1</td>\n",
       "    </tr>\n",
       "    <tr>\n",
       "      <th>13</th>\n",
       "      <td>5.0</td>\n",
       "      <td>3.2</td>\n",
       "    </tr>\n",
       "    <tr>\n",
       "      <th>15</th>\n",
       "      <td>5.0</td>\n",
       "      <td>2.9</td>\n",
       "    </tr>\n",
       "    <tr>\n",
       "      <th>21</th>\n",
       "      <td>5.0</td>\n",
       "      <td>3.4</td>\n",
       "    </tr>\n",
       "    <tr>\n",
       "      <th>26</th>\n",
       "      <td>5.0</td>\n",
       "      <td>3.0</td>\n",
       "    </tr>\n",
       "    <tr>\n",
       "      <th>32</th>\n",
       "      <td>5.0</td>\n",
       "      <td>3.2</td>\n",
       "    </tr>\n",
       "    <tr>\n",
       "      <th>34</th>\n",
       "      <td>5.0</td>\n",
       "      <td>2.8</td>\n",
       "    </tr>\n",
       "    <tr>\n",
       "      <th>36</th>\n",
       "      <td>5.0</td>\n",
       "      <td>3.3</td>\n",
       "    </tr>\n",
       "    <tr>\n",
       "      <th>41</th>\n",
       "      <td>5.0</td>\n",
       "      <td>3.0</td>\n",
       "    </tr>\n",
       "  </tbody>\n",
       "</table>\n",
       "</div>"
      ],
      "text/plain": [
       "    Quality (1-5)  pH (Acidity)\n",
       "2             5.0           3.0\n",
       "9             5.0           3.1\n",
       "13            5.0           3.2\n",
       "15            5.0           2.9\n",
       "21            5.0           3.4\n",
       "26            5.0           3.0\n",
       "32            5.0           3.2\n",
       "34            5.0           2.8\n",
       "36            5.0           3.3\n",
       "41            5.0           3.0"
      ]
     },
     "execution_count": 22,
     "metadata": {},
     "output_type": "execute_result"
    }
   ],
   "source": [
    "c"
   ]
  },
  {
   "cell_type": "code",
   "execution_count": 24,
   "id": "d980bcd6-8644-45f6-8202-f3ab9f481abf",
   "metadata": {},
   "outputs": [],
   "source": [
    "# takeway: top 10 quality oranges ph values"
   ]
  },
  {
   "cell_type": "code",
   "execution_count": 26,
   "id": "547f0bc1-b78c-4082-ae07-b8b776ae4a43",
   "metadata": {},
   "outputs": [
    {
     "data": {
      "image/png": "[encoded data removed]",
      "text/plain": [
       "<Figure size 640x480 with 1 Axes>"
      ]
     },
     "metadata": {},
     "output_type": "display_data"
    }
   ],
   "source": [
    "plt.plot(c['Quality (1-5)'],c['pH (Acidity)']);"
   ]
  },
  {
   "cell_type": "code",
   "execution_count": 40,
   "id": "3e0a38fd-f0c7-4b13-bfe7-623f0f3e01c1",
   "metadata": {},
   "outputs": [
    {
     "data": {
      "image/png": "[encoded data removed]",
      "text/plain": [
       "<Figure size 800x600 with 1 Axes>"
      ]
     },
     "metadata": {},
     "output_type": "display_data"
    }
   ],
   "source": [
    "c.plot(kind='line',colormap='plasma',figsize=(8,6),marker='o',title='MEASURES');"
   ]
  },
  {
   "cell_type": "code",
   "execution_count": 38,
   "id": "d9a31256-1147-4a1a-bdc3-5a008b946c48",
   "metadata": {},
   "outputs": [
    {
     "data": {
      "image/png": "[encoded data removed]",
      "text/plain": [
       "<Figure size 800x600 with 1 Axes>"
      ]
     },
     "metadata": {},
     "output_type": "display_data"
    }
   ],
   "source": [
    "plt.figure(figsize=(8,6))\n",
    "plt.barh(c['Quality (1-5)'],c['pH (Acidity)'],color='g',edgecolor='black')\n",
    "plt.title('Measures')\n",
    "plt.xlabel('quality')\n",
    "plt.ylabel('ph')\n",
    "plt.xticks(rotation=90);"
   ]
  },
  {
   "cell_type": "code",
   "execution_count": 46,
   "id": "21cc1f47-6906-44fd-a92f-092a4ed0d8a6",
   "metadata": {},
   "outputs": [
    {
     "data": {
      "image/png": "[encoded data removed]",
      "text/plain": [
       "<Figure size 800x600 with 1 Axes>"
      ]
     },
     "metadata": {},
     "output_type": "display_data"
    }
   ],
   "source": [
    "c.plot(kind='hist',colormap='viridis',stacked=True,figsize=(8,6),title='MEASURES',xlabel='Quality (1-5)',ylabel='pH (Acidity)',edgecolor='black');"
   ]
  },
  {
   "cell_type": "code",
   "execution_count": null,
   "id": "dc71c8dd-1a2f-4f98-9dfb-5d1ed4f42259",
   "metadata": {},
   "outputs": [],
   "source": []
  },
  {
   "cell_type": "code",
   "execution_count": null,
   "id": "f812779f-acef-49ae-9be8-336c51ab4cc5",
   "metadata": {},
   "outputs": [],
   "source": []
  },
  {
   "cell_type": "code",
   "execution_count": null,
   "id": "168341f5-8347-435d-9299-070d803587eb",
   "metadata": {},
   "outputs": [],
   "source": []
  }
 ],
 "metadata": {
  "kernelspec": {
   "display_name": "Python 3 (ipykernel)",
   "language": "python",
   "name": "python3"
  },
  "language_info": {
   "codemirror_mode": {
    "name": "ipython",
    "version": 3
   },
   "file_extension": ".py",
   "mimetype": "text/x-python",
   "name": "python",
   "nbconvert_exporter": "python",
   "pygments_lexer": "ipython3",
   "version": "3.12.4"
  }
 },
 "nbformat": 4,
 "nbformat_minor": 5
}
